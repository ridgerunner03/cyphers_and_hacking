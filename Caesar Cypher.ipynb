{
 "cells": [
  {
   "cell_type": "markdown",
   "metadata": {},
   "source": [
    "first we will work on the encryption cypher"
   ]
  },
  {
   "cell_type": "code",
   "execution_count": 76,
   "metadata": {},
   "outputs": [],
   "source": [
    "def encrypt(text,shift):\n",
    "#     first we need to create our cypher\n",
    "    \n",
    "    alpha = ['a','b','c','d','e','f','g','h','i','j','k','l','m',\n",
    "            'n','o','p','q','r','s','t','u','v','w','x','y','z',' ']\n",
    "    caesar = []\n",
    "    final = shift\n",
    "    while shift < 27:\n",
    "        caesar.append(alpha[shift])\n",
    "        shift +=1\n",
    "    caesar.extend(alpha[:final])\n",
    "    \n",
    "#     now that the cypher is created we need to split the text\n",
    "#     and create the encrypted text\n",
    "    broken = list(text)\n",
    "    new = []\n",
    "\n",
    "\n",
    "    for x in text:\n",
    "        for i,l in enumerate(alpha):\n",
    "            if x == l:\n",
    "                index = i\n",
    "                new.append(caesar[index])\n",
    "    encrypted = \"\".join(new)\n",
    "\n",
    "    return(encrypted)\n"
   ]
  },
  {
   "cell_type": "code",
   "execution_count": 81,
   "metadata": {},
   "outputs": [
    {
     "data": {
      "text/plain": [
       "'pljbxqbuqxebob'"
      ]
     },
     "execution_count": 81,
     "metadata": {},
     "output_type": "execute_result"
    }
   ],
   "source": [
    "encrypt(\"some text here\",24)"
   ]
  },
  {
   "cell_type": "markdown",
   "metadata": {},
   "source": [
    "Next, we will look at a decryption function"
   ]
  },
  {
   "cell_type": "code",
   "execution_count": 85,
   "metadata": {},
   "outputs": [],
   "source": [
    "def decrypt(text,shift):\n",
    "#     first we need to create our cypher\n",
    "#     this will be the same as the encrypt func\n",
    "#     except that we need to populate caesar backwards.\n",
    "    alpha = ['a','b','c','d','e','f','g','h','i','j','k','l','m',\n",
    "            'n','o','p','q','r','s','t','u','v','w','x','y','z',' ']\n",
    "    diff = shift*-1\n",
    "    caesar = []\n",
    "    final = diff\n",
    "    while diff < 27:\n",
    "        caesar.append(alpha[diff])\n",
    "        diff +=1\n",
    "    caesar.extend(alpha[final:])\n",
    "    \n",
    "#     now that the cypher is created we need to split the text\n",
    "#     and create the encrypted text\n",
    "    broken = list(text)\n",
    "    new = []\n",
    "\n",
    "\n",
    "    for x in text:\n",
    "        for i,l in enumerate(alpha):\n",
    "            if x == l:\n",
    "                index = i\n",
    "                new.append(caesar[index])\n",
    "\n",
    "    decrypted = \"\".join(new)\n",
    "\n",
    "    return(decrypted)\n"
   ]
  },
  {
   "cell_type": "code",
   "execution_count": 86,
   "metadata": {},
   "outputs": [
    {
     "data": {
      "text/plain": [
       "'some text here'"
      ]
     },
     "execution_count": 86,
     "metadata": {},
     "output_type": "execute_result"
    }
   ],
   "source": [
    "decrypt('pljbxqbuqxebob',24)"
   ]
  },
  {
   "cell_type": "code",
   "execution_count": 129,
   "metadata": {},
   "outputs": [],
   "source": [
    "def brute_force(text):\n",
    "#     first we need to create our cypher\n",
    "#     this will be the same as the decrypt func\n",
    "#     except that we need to print all 27 possible combinations at the end.\n",
    "    count = 0\n",
    "    while count < 28:\n",
    "        shift = count\n",
    "        alpha = ['a','b','c','d','e','f','g','h','i','j','k','l','m',\n",
    "            'n','o','p','q','r','s','t','u','v','w','x','y','z',' ']\n",
    "        caesar = []\n",
    "        \n",
    "        while shift < 27:\n",
    "            caesar.append(alpha[shift])\n",
    "            shift +=1\n",
    "        caesar.extend(alpha[:count])\n",
    "\n",
    "    #     now that the cypher is created we need to split the text\n",
    "    #     and create the encrypted text\n",
    "        broken = list(text)\n",
    "        new = []\n",
    "\n",
    "\n",
    "        for x in text:\n",
    "            for i,l in enumerate(alpha):\n",
    "                if x == l:\n",
    "                    index = i\n",
    "                    new.append(caesar[index])\n",
    "        decrypted = \"\".join(new)\n",
    "\n",
    "        print(f'attempt number {count} is:\\n\\t\\t{decrypted}\\n')\n",
    "        count +=1"
   ]
  },
  {
   "cell_type": "code",
   "execution_count": 130,
   "metadata": {},
   "outputs": [
    {
     "name": "stdout",
     "output_type": "stream",
     "text": [
      "attempt number 0 is:\n",
      "\t\tpljbxqbuqxebob\n",
      "\n",
      "attempt number 1 is:\n",
      "\t\tqmkcyrcvryfcpc\n",
      "\n",
      "attempt number 2 is:\n",
      "\t\trnldzsdwszgdqd\n",
      "\n",
      "attempt number 3 is:\n",
      "\t\tsome text here\n",
      "\n",
      "attempt number 4 is:\n",
      "\t\ttpnfaufyuaifsf\n",
      "\n",
      "attempt number 5 is:\n",
      "\t\tuqogbvgzvbjgtg\n",
      "\n",
      "attempt number 6 is:\n",
      "\t\tvrphcwh wckhuh\n",
      "\n",
      "attempt number 7 is:\n",
      "\t\twsqidxiaxdlivi\n",
      "\n",
      "attempt number 8 is:\n",
      "\t\txtrjeyjbyemjwj\n",
      "\n",
      "attempt number 9 is:\n",
      "\t\tyuskfzkczfnkxk\n",
      "\n",
      "attempt number 10 is:\n",
      "\t\tzvtlg ld golyl\n",
      "\n",
      "attempt number 11 is:\n",
      "\t\t wumhameahpmzm\n",
      "\n",
      "attempt number 12 is:\n",
      "\t\taxvnibnfbiqn n\n",
      "\n",
      "attempt number 13 is:\n",
      "\t\tbywojcogcjroao\n",
      "\n",
      "attempt number 14 is:\n",
      "\t\tczxpkdphdkspbp\n",
      "\n",
      "attempt number 15 is:\n",
      "\t\td yqleqieltqcq\n",
      "\n",
      "attempt number 16 is:\n",
      "\t\teazrmfrjfmurdr\n",
      "\n",
      "attempt number 17 is:\n",
      "\t\tfb sngskgnvses\n",
      "\n",
      "attempt number 18 is:\n",
      "\t\tgcatohtlhowtft\n",
      "\n",
      "attempt number 19 is:\n",
      "\t\thdbupiumipxugu\n",
      "\n",
      "attempt number 20 is:\n",
      "\t\tiecvqjvnjqyvhv\n",
      "\n",
      "attempt number 21 is:\n",
      "\t\tjfdwrkwokrzwiw\n",
      "\n",
      "attempt number 22 is:\n",
      "\t\tkgexslxpls xjx\n",
      "\n",
      "attempt number 23 is:\n",
      "\t\tlhfytmyqmtayky\n",
      "\n",
      "attempt number 24 is:\n",
      "\t\tmigzunzrnubzlz\n",
      "\n",
      "attempt number 25 is:\n",
      "\t\tnjh vo sovc m \n",
      "\n",
      "attempt number 26 is:\n",
      "\t\tokiawpatpwdana\n",
      "\n",
      "attempt number 27 is:\n",
      "\t\tpljbxqbuqxebob\n",
      "\n"
     ]
    }
   ],
   "source": [
    "brute_force('pljbxqbuqxebob')"
   ]
  },
  {
   "cell_type": "code",
   "execution_count": null,
   "metadata": {},
   "outputs": [],
   "source": []
  }
 ],
 "metadata": {
  "kernelspec": {
   "display_name": "Python 3",
   "language": "python",
   "name": "python3"
  },
  "language_info": {
   "codemirror_mode": {
    "name": "ipython",
    "version": 3
   },
   "file_extension": ".py",
   "mimetype": "text/x-python",
   "name": "python",
   "nbconvert_exporter": "python",
   "pygments_lexer": "ipython3",
   "version": "3.8.5"
  }
 },
 "nbformat": 4,
 "nbformat_minor": 4
}
