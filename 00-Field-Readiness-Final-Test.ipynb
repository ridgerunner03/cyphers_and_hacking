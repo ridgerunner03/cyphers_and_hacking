{
 "cells": [
  {
   "cell_type": "markdown",
   "metadata": {
    "collapsed": true
   },
   "source": [
    "# Final Field Readiness Test \n",
    "\n",
    "** For this test you will be using Object Oriented Programming to create an object that uses a modified Caeser Cipher. Check out the video for an explanation of how the object will work. The basic idea is the following, given a message such as \"hello world\", the encryption should perform the following steps:**\n",
    "\n",
    "** The encryption method you will create: **\n",
    "\n",
    "1. Accept a string, such as: \"hello world\"\n",
    "2. Add in a random letter in every other index position in the string, for example: 'hueqlzlpom cwgosrhlbdg'\n",
    "3. Then reverse this string, for example: 'gdblhrsogwc moplzlqeuh'\n",
    "4. Then create a shuffled version of the alphabet (remember to set a seed to the random.seed() so you can get this shuffled version again by providing the same seed number).\n",
    "5. Just like a classic Caeser cipher, match up the index of each letter and then encrypt the letters using this shuffled alphabet.\n",
    "\n",
    "The end result will be a string something like \"divgkjocdze bcrgqghywk\" for our previous example.\n",
    "\n",
    "To decrypt this, reverse the steps. The hardest step to reverse is the randomized shuffling of the alphabet, to regain the same shuffling, you will need the seed key. The method for the decryption will accept this as an argument.\n",
    "\n",
    "The \"skeleton\" of the code has been outlined for you to fill out below. Best of luck!"
   ]
  },
  {
   "cell_type": "code",
   "execution_count": 1,
   "metadata": {},
   "outputs": [],
   "source": [
    "# Imports you might need\n",
    "import string\n",
    "import random"
   ]
  },
  {
   "cell_type": "code",
   "execution_count": 135,
   "metadata": {},
   "outputs": [],
   "source": [
    "class Encryption():\n",
    "    \n",
    "    def __init__(self,seed):\n",
    "        \n",
    "        # Set a random seed and a self.seed attribute\n",
    "        self.seed = random.seed(seed)\n",
    "        \n",
    "        \n",
    "        \n",
    "        # Create an empty string attribute to hold the encrypted phrase\n",
    "        self.encrypted_phrase = \"\"\n",
    "        \n",
    "        \n",
    "        # Use the string and random libraries to create two attributes\n",
    "        # One is the correct alphabet, another is a shuffled alphabet (hint: random.sample())\n",
    "        self.alphabet = string.ascii_lowercase\n",
    "        self.random_alphabet = random.sample(alphabet,26)\n",
    "        \n",
    "        \n",
    "    def encryption(self,message):\n",
    "        '''\n",
    "        This method will take in a string message and encrypt it. Check the video or \n",
    "        the instructions above in the markdown for full description of how your\n",
    "        decryption method should work.\n",
    "        \n",
    "        '''\n",
    "        broken = list(message)\n",
    "        count = 1\n",
    "        length = len(broken)*2\n",
    "        \n",
    "        \n",
    "        ################################################################\n",
    "        ### STEP 1: REPLACE EVERY OTHER LETTER WITH A RANDOM LETTER ###\n",
    "        ##############################################################\n",
    "        while count < length:\n",
    "            broken.insert(count,self.random_alphabet[10])\n",
    "            count += 2\n",
    "        \n",
    "        \n",
    "        #################################################\n",
    "        ### STEP 2: REVERSE THE STRING  ################\n",
    "        ###############################################\n",
    "        length2 = len(broken)/2\n",
    "        count2 = 0\n",
    "        end2 = -1\n",
    "        while count2<length2:\n",
    "            broken[count2],broken[end2]=broken[end2],broken[count2]\n",
    "            count2 +=1\n",
    "            end2 -= 1\n",
    "        \n",
    "        \n",
    "        \n",
    "        ##########################################################################\n",
    "        ##### STEP 3: USE THE RANDOM SHUFFLED ALPHABET FOR A Caeser CIPHER ######\n",
    "        ########################################################################\n",
    "        \n",
    "        \n",
    "        \n",
    "        for letter in broken:\n",
    "            for i,l in enumerate(self.alphabet):\n",
    "#                 for some reason when I added this first if statment here instead of\n",
    "#                 one space it was giving me 26.  I'm not happy with this fix but \n",
    "#                 it is functional and let me keep moving forward.\n",
    "#                 I do want to know why the code acted that way though.\n",
    "                if letter == \" \" and self.encrypted_phrase[-1] != \" \":\n",
    "                    self.encrypted_phrase += \" \"\n",
    "                    \n",
    "                    \n",
    "                elif letter == l:\n",
    "                    index = i\n",
    "                    self.encrypted_phrase += self.random_alphabet[index]\n",
    "\n",
    "        return(self.encrypted_phrase)\n",
    "\n",
    "\n",
    "    def decryption(self,message,seed):\n",
    "        '''\n",
    "        This method takes in a messsage and a seed for the random shuffled alphabet.\n",
    "        It then returns the decrypted alphabet.\n",
    "        '''\n",
    "        \n",
    "        \n",
    "        # Set method variables\n",
    "        self.seed = random.seed(seed)\n",
    "        \n",
    "        broken2 = list(message)\n",
    "        decrypted_list = []\n",
    "        \n",
    "        \n",
    "        \n",
    "        \n",
    "        \n",
    "        # Create an empty string attribute to hold the encrypted phrase\n",
    "        self.decrypted_phrase = \"\"\n",
    "        \n",
    "        self.alphabet = string.ascii_lowercase\n",
    "        self.random_alphabet = random.sample(alphabet,26)\n",
    "          \n",
    "        for letter in broken2:\n",
    "            for i,l in enumerate(self.random_alphabet):\n",
    "#                 it wasn't until I had to decrypt that I realized the problem with\n",
    "#                 the code taking all of my spaces out of the result.\n",
    "#                 I ended up having to add this if statement here and in the encrypt method\n",
    "                if letter == \" \" and decrypted_list[-1] != \" \":\n",
    "                    decrypted_list.append(\" \")\n",
    "                    \n",
    "                elif letter == l:\n",
    "                    index = i\n",
    "                    decrypted_list.append(self.alphabet[index])\n",
    "\n",
    "#         Secondly, we reverse the word order back to what it was\n",
    "        length2 = len(decrypted_list)/2\n",
    "        count2 = 0\n",
    "        end2 = -1\n",
    "        while count2<length2:\n",
    "            decrypted_list[count2],decrypted_list[end2]=decrypted_list[end2],decrypted_list[count2]\n",
    "            count2 +=1\n",
    "            end2 -= 1\n",
    "\n",
    "#         Finally, we will pop ever even letter to reveal the final message\n",
    "        count = 1\n",
    "        while count < len(decrypted_list):\n",
    "            decrypted_list.pop(count)\n",
    "            count +=1\n",
    "        \n",
    "        return \"\".join(decrypted_list)\n",
    "            \n",
    "        \n",
    "        \n",
    "        \n",
    "        \n",
    "        \n",
    "        \n",
    "        \n",
    "        "
   ]
  },
  {
   "cell_type": "code",
   "execution_count": 136,
   "metadata": {},
   "outputs": [],
   "source": [
    "e=Encryption(20)"
   ]
  },
  {
   "cell_type": "code",
   "execution_count": 137,
   "metadata": {},
   "outputs": [
    {
     "data": {
      "text/plain": [
       "'pypdpxpopopypbp pypgprpbpfpop pxp popfp popfpkpm'"
      ]
     },
     "execution_count": 137,
     "metadata": {},
     "output_type": "execute_result"
    }
   ],
   "source": [
    "e.encryption(\"this is a simple message\")"
   ]
  },
  {
   "cell_type": "code",
   "execution_count": 138,
   "metadata": {},
   "outputs": [
    {
     "data": {
      "text/plain": [
       "'this is a simple message'"
      ]
     },
     "execution_count": 138,
     "metadata": {},
     "output_type": "execute_result"
    }
   ],
   "source": [
    "e.decryption('pypdpxpopopypbp pypgprpbpfpop pxp popfp popfpkpm',20)"
   ]
  },
  {
   "cell_type": "code",
   "execution_count": 98,
   "metadata": {},
   "outputs": [
    {
     "name": "stdout",
     "output_type": "stream",
     "text": [
      "t\n"
     ]
    }
   ],
   "source": [
    "test = 'this is a test'\n",
    "print(test[-1])"
   ]
  },
  {
   "cell_type": "markdown",
   "metadata": {},
   "source": [
    "**Example of this in action:**"
   ]
  },
  {
   "cell_type": "code",
   "execution_count": 12,
   "metadata": {
    "collapsed": true
   },
   "outputs": [],
   "source": [
    "e = Encryption(20)"
   ]
  },
  {
   "cell_type": "code",
   "execution_count": 13,
   "metadata": {},
   "outputs": [
    {
     "data": {
      "text/plain": [
       "'divgkjocdze bcrgqghywk'"
      ]
     },
     "execution_count": 13,
     "metadata": {},
     "output_type": "execute_result"
    }
   ],
   "source": [
    "e.encryption('hello world')"
   ]
  },
  {
   "cell_type": "code",
   "execution_count": 14,
   "metadata": {},
   "outputs": [
    {
     "data": {
      "text/plain": [
       "'hello world'"
      ]
     },
     "execution_count": 14,
     "metadata": {},
     "output_type": "execute_result"
    }
   ],
   "source": [
    "e.decryption('divgkjocdze bcrgqghywk',20)"
   ]
  },
  {
   "cell_type": "markdown",
   "metadata": {},
   "source": [
    "Best of luck!"
   ]
  }
 ],
 "metadata": {
  "kernelspec": {
   "display_name": "Python 3",
   "language": "python",
   "name": "python3"
  },
  "language_info": {
   "codemirror_mode": {
    "name": "ipython",
    "version": 3
   },
   "file_extension": ".py",
   "mimetype": "text/x-python",
   "name": "python",
   "nbconvert_exporter": "python",
   "pygments_lexer": "ipython3",
   "version": "3.8.5"
  }
 },
 "nbformat": 4,
 "nbformat_minor": 2
}
